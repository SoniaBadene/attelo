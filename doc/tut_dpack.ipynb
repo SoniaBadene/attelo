{
 "cells": [
  {
   "cell_type": "markdown",
   "metadata": {},
   "source": [
    "## Datapacks and multipacks\n",
    "\n",
    "Attelo reads its [input files](input) into “datapacks”. Generally speaking, we have one datapack per document, so when reading a corpus in, we would be reading multiple datapacks (we read a multipack, ie. a dictionary of datapacks, or perhaps a fancier structure in future attelo versions)"
   ]
  },
  {
   "cell_type": "code",
   "execution_count": 29,
   "metadata": {
    "collapsed": false
   },
   "outputs": [
    {
     "name": "stderr",
     "output_type": "stream",
     "text": [
      "Reading edus and pairings... done [0 ms]\n",
      "Reading features... done [2 ms]\n",
      "Build data packs... done [0 ms]\n"
     ]
    }
   ],
   "source": [
    "from __future__ import print_function\n",
    "\n",
    "from os import path as fp\n",
    "from attelo.io import (load_multipack)\n",
    "\n",
    "CORPUS_DIR = 'example-corpus'\n",
    "PREFIX = fp.join(CORPUS_DIR, 'tiny')\n",
    "\n",
    "# load the data into a multipack\n",
    "mpack = load_multipack(PREFIX + '.edus',\n",
    "                       PREFIX + '.pairings',\n",
    "                       PREFIX + '.features.sparse',\n",
    "                       PREFIX + '.features.sparse.vocab',\n",
    "                       verbose=True)\n"
   ]
  },
  {
   "cell_type": "code",
   "execution_count": null,
   "metadata": {
    "collapsed": true
   },
   "outputs": [],
   "source": []
  },
  {
   "cell_type": "code",
   "execution_count": 30,
   "metadata": {
    "collapsed": false
   },
   "outputs": [
    {
     "name": "stdout",
     "output_type": "stream",
     "text": [
      "Doc: d2 | edus: 4, pairs: 9, features: (9, 7)\n",
      "Doc: d3 | edus: 3, pairs: 4, features: (4, 7)\n",
      "Doc: d1 | edus: 4, pairs: 9, features: (9, 7)\n"
     ]
    }
   ],
   "source": [
    "for dname, dpack in mpack.items():\n",
    "    about = (\"Doc: {name} |\"\n",
    "             \" edus: {edus}, pairs: {pairs},\"\n",
    "             \" features: {feats}\")\n",
    "    print(about.format(name=dname,\n",
    "                       edus=len(dpack.edus),\n",
    "                       pairs=len(dpack),\n",
    "                       feats=dpack.data.shape))"
   ]
  },
  {
   "cell_type": "markdown",
   "metadata": {},
   "source": [
    "Datapacks store everything we know about a document:\n",
    "\n",
    "* edus: edus and their and their metadata\n",
    "* pairings: factors to learn on\n",
    "* data: feature array\n",
    "* target: predicted label for each instance"
   ]
  },
  {
   "cell_type": "code",
   "execution_count": 52,
   "metadata": {
    "collapsed": false
   },
   "outputs": [
    {
     "name": "stdout",
     "output_type": "stream",
     "text": [
      "LABELS (6): __UNK__, elaboration, narration, continuation, UNRELATED, ROOT\n",
      "\n",
      "EDU ROOT: (0, 0) from None [None]\t\n",
      "EDU d2_e2: (0, 27) from d2 [s3]\tanybody want sheep for wood?\n",
      "EDU d2_e3: (28, 40) from d2 [s4]\tnope, not me\n",
      "...\n",
      "\n",
      "PAIR 0 ROOT d2_e2 \t| elaboration \t| [ 0.  0.  0.  0.  0.  0.  0.]\n",
      "PAIR 1 d2_e3 d2_e2 \t| narration \t| [ 1.  1.  0.  0.  0.  0.  0.]\n",
      "PAIR 2 d2_e4 d2_e2 \t| UNRELATED \t| [ 2.  0.  1.  0.  0.  0.  0.]\n",
      "...\n",
      "\n",
      "FEATURE 0 sentence_id_EDU2=1\n",
      "FEATURE 1 offset_diff_div3=0\n",
      "FEATURE 2 num_tokens_EDU2=19\n",
      "...\n",
      "\n"
     ]
    }
   ],
   "source": [
    "dpack = mpack.values()[0] # pick an arbitrary pack\n",
    "print(\"LABELS ({num}): {lbls}\".format(num=len(dpack.labels), \n",
    "                                      lbls=\", \".join(dpack.labels)))\n",
    "print()\n",
    "# note that attelo will by convention insert __UNK__ into the list of\n",
    "# labels, at position 0.  It also requires that UNRELATED and ROOT be\n",
    "# in the list of available labels\n",
    "\n",
    "for edu in dpack.edus[:3]:\n",
    "    print(edu)\n",
    "print(\"...\\n\")\n",
    "\n",
    "for i, (edu1, edu2) in enumerate(dpack.pairings[:3]):\n",
    "    lnum = dpack.target[i]\n",
    "    lbl = dpack.get_label(lnum)\n",
    "    feats = dpack.data[i,:].toarray()[0]\n",
    "    print('PAIR', i, edu1.id, edu2.id, '\\t|', lbl, '\\t|', feats)\n",
    "print(\"...\\n\")\n",
    "\n",
    "for j, vocab in enumerate(dpack.vocab[:3]):\n",
    "    print('FEATURE', j, vocab) \n",
    "print(\"...\\n\")"
   ]
  },
  {
   "cell_type": "code",
   "execution_count": null,
   "metadata": {
    "collapsed": true
   },
   "outputs": [],
   "source": []
  }
 ],
 "metadata": {
  "kernelspec": {
   "display_name": "Python 2",
   "language": "python",
   "name": "python2"
  },
  "language_info": {
   "codemirror_mode": {
    "name": "ipython",
    "version": 2
   },
   "file_extension": ".py",
   "mimetype": "text/x-python",
   "name": "python",
   "nbconvert_exporter": "python",
   "pygments_lexer": "ipython2",
   "version": "2.7.9"
  }
 },
 "nbformat": 4,
 "nbformat_minor": 0
}
